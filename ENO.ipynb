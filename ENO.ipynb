version https://git-lfs.github.com/spec/v1
oid sha256:89d3fceef810df25c4c9a7c14a164e9bed7b02e011402bcf8efc7cec50bb5c1c
size 115035954
